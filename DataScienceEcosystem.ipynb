{
 "cells": [
  {
   "cell_type": "markdown",
   "source": [
    "# Data Science Tools and Ecosystem"
   ],
   "metadata": {
    "collapsed": false
   },
   "id": "1932ef54dbe91acd"
  },
  {
   "cell_type": "markdown",
   "source": [
    "In this notebook, Data Science Tools and Ecosystem are summarized."
   ],
   "metadata": {
    "collapsed": false
   },
   "id": "8f18ebc3c31d98bc"
  },
  {
   "cell_type": "markdown",
   "source": [
    "Some of the popular languages that Data Scientists use are:\n",
    "\n",
    "1. Python\n",
    "2. R\n",
    "3. SQL\n"
   ],
   "metadata": {
    "collapsed": false
   },
   "id": "fb91d1a28bbae13f"
  },
  {
   "cell_type": "markdown",
   "source": [
    "Some of the commonly used libraries used by Data Scientists include:\n",
    "\n",
    "1. Pandas (Python)\n",
    "2. ggplot2 (R)\n",
    "3. scikit-learn (Python)\n"
   ],
   "metadata": {
    "collapsed": false
   },
   "id": "9c1981d3e4d52897"
  },
  {
   "cell_type": "markdown",
   "source": [
    "| Data Science Tools |\n",
    "|--------------------|\n",
    "| Jupyter Notebooks  |\n",
    "| RStudio            |\n",
    "| Apache Zeppelin    |\n"
   ],
   "metadata": {
    "collapsed": false
   },
   "id": "81ccb1d1c201d04d"
  },
  {
   "cell_type": "markdown",
   "source": [
    "### Below are a few examples of evaluating arithmetic expressions in Python\n"
   ],
   "metadata": {
    "collapsed": false
   },
   "id": "69e367f19a9c6cf4"
  },
  {
   "cell_type": "code",
   "outputs": [
    {
     "data": {
      "text/plain": "17"
     },
     "execution_count": 2,
     "metadata": {},
     "output_type": "execute_result"
    }
   ],
   "source": [
    "# This is a simple arithmetic expression to multiply then add integers.\n",
    "result = (3*4) + 5\n",
    "result\n"
   ],
   "metadata": {
    "collapsed": false,
    "ExecuteTime": {
     "end_time": "2024-01-25T10:11:27.111053300Z",
     "start_time": "2024-01-25T10:11:27.090863Z"
    }
   },
   "id": "cc284cc630301c79",
   "execution_count": 2
  },
  {
   "cell_type": "code",
   "outputs": [
    {
     "data": {
      "text/plain": "3.3333333333333335"
     },
     "execution_count": 3,
     "metadata": {},
     "output_type": "execute_result"
    }
   ],
   "source": [
    "# This will convert 200 minutes to hours by dividing by 60.\n",
    "minutes = 200\n",
    "hours = minutes / 60\n",
    "hours"
   ],
   "metadata": {
    "collapsed": false,
    "ExecuteTime": {
     "end_time": "2024-01-25T10:12:33.459706700Z",
     "start_time": "2024-01-25T10:12:33.429706Z"
    }
   },
   "id": "b8ca884a38c839e1",
   "execution_count": 3
  },
  {
   "cell_type": "markdown",
   "source": [
    "**Objectives:**\n",
    "\n",
    "- List popular languages for Data Science.\n",
    "- Summarize commonly used Data Science libraries.\n",
    "- Demonstrate basic arithmetic operations in Python.\n",
    "- Show how to convert units, e.g., minutes to hours.\n",
    "- Describe the use of different Data Science tools.\n"
   ],
   "metadata": {
    "collapsed": false
   },
   "id": "e5f1de3c8d3454ed"
  },
  {
   "cell_type": "markdown",
   "source": [
    "## Author\n",
    "\n",
    "Victorien Goudeau\n"
   ],
   "metadata": {
    "collapsed": false
   },
   "id": "cdf864471bd7be82"
  },
  {
   "cell_type": "code",
   "outputs": [],
   "source": [],
   "metadata": {
    "collapsed": false
   },
   "id": "3f1fa1b5d8a458cc"
  }
 ],
 "metadata": {
  "kernelspec": {
   "display_name": "Python 3",
   "language": "python",
   "name": "python3"
  },
  "language_info": {
   "codemirror_mode": {
    "name": "ipython",
    "version": 2
   },
   "file_extension": ".py",
   "mimetype": "text/x-python",
   "name": "python",
   "nbconvert_exporter": "python",
   "pygments_lexer": "ipython2",
   "version": "2.7.6"
  }
 },
 "nbformat": 4,
 "nbformat_minor": 5
}
